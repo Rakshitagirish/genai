mport numpy as np
def create(sentences,window_size):
  index=0
  vocabulary={}
  for sentence in sentences:
    words=sentence.lower().split()
    for word in words:
      if word not in vocabulary:
        vocabulary[word]=index
        index+=1
  v=len(vocabulary)
  traning_pair=[]
  for sentence in sentences:
    words=sentence.lower().split()
    for i ,target in enumerate(words):
      start=max(0,i-window_size)
      end=min(len(words),i+window_size+1)
      for j in range(start,end):
        if i!=j:
          context_word=words[j]
          traning_pair.append((target,context_word))
  return vocabulary,traning_pair
sentences=[
    "i love machine learning",
    "machine learning is amazing"
    "i love learning new things"
]
window_size=2
vocabulary,target_pair=create(sentences,window_size)
print(vocabulary)
for pair in target_pair:
  print(pair)

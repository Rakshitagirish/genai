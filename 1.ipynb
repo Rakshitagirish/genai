import numpy as np
def calculate(documents,vocabulary):
  n=len(documents)
  v=len(vocabulary)
  tf=np.zeros((n,v))
  for i,doc in enumerate(documents):
    words=doc.lower().split()
    for word in words:
      if word  in vocabulary:
        j=vocabulary.index(word)
        tf[i,j]+=1
    tf[i]=tf[i]/len(words)
  df=np.zeros(v)
  for j,term in enumerate(vocabulary):
    df[j]=sum(1 for doc in documents if term in doc.lower().split())
  idf=np.log(n/(df+1))
  tf_idf=tf*idf
  return tf_idf

documents=["cat sat on rat",
           "cat and dog are here",
           "cats are cute"]
vocabulary=list(set("".join(documents).lower().split()))
ti=calculate(documents,vocabulary)
print(vocabulary)
print(ti)

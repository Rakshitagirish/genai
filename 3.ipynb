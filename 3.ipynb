from collections import defaultdict
def gen(documents):
  total=0
  trigram_count=defaultdict(int)
  for doc in documents:
    words=doc.lower().split()
    for i in range(len(words)-2):
      total+=1
      trigram=tuple(words[i:i+3])
      trigram_count[trigram]+=1
  tri_prob={}
  for t,count in trigram_count.items():
    tri_prob[t]=count/total 
  return tri_prob
sentence=["The quick brown fox jumps over the lazy dog.",
          "The quick brown fox jumps over the lazy cat"]
tp=gen(sentence)
for t,c in tp.items():
  print({t},{c})

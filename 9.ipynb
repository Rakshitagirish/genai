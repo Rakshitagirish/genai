import numpy as np
def rnn(x,whx,whh,why,bh,by,h0):
  h=h0
  hs=[]
  ys=[]
  for t in range(len(x)):
    xt=np.array([[x[t]]])
    h=np.tanh(np.dot(whh,h)+np.dot(whx,xt)+bh)
    y=np.dot(why,h)+by
    hs.append(h)
    ys.append(y)
  return hs,ys
x=[1,2,3]
input_size=1
output_size=1
hidden_size=4
np.random.seed(0)
whx=np.random.rand(hidden_size,input_size)*0.01
whh=np.random.rand(hidden_size,hidden_size)*0.01
why=np.random.rand(output_size,hidden_size)*0.01
bh=np.zeros((hidden_size,1))
by=np.zeros((output_size,1))
h0=np.zeros((hidden_size,1))
hs,ys=rnn(x,whx,whh,why,bh,by,h0)
for t,y in enumerate(ys):
  print(f"time '{t+1}': y: '{y.flatten()}'")

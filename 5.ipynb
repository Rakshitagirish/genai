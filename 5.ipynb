import numpy as np
def creat_embedding(corpus,pre_train,em_dim):
  vocabulary={}
  index=0
  for sentence in corpus:
    words=sentence.lower().split()
    for word in words:
      if word not in vocabulary:
        vocabulary[word]=index
        index+=1
  v=len(vocabulary)
  E=np.zeros((v,em_dim))
  for word,idx in vocabulary.items():
    if word in pre_train:
      E[idx]=np.array(vocabulary[word])
    else:
      E[idx]=np.random.rand(em_dim)
  def get_word(word):
    word=word.lower()
    if word in vocabulary:
      idx=vocabulary[word]
      return E[idx]
    else:
      return np.zeros(em_dim)
  return E,vocabulary,get_word
corpus=[
    "I love machine learning ",
    "Machine learning is amazing",
     "I love learning new things"
]
em_dim=3
pre_train={
    "machine": [0.1, 0.2, 0.3],
"learning": [0.2, 0.3, 0.4],
"amazing": [0.3, 0.4, 0.5],
"love": [0.4, 0.5, 0.6]
}
E,vocabulary,get_word=creat_embedding(corpus,pre_train,em_dim)
print(E)
print(vocabulary)
word="love"
vector=get_word(word)
print(f"em for '{word}':",vector)

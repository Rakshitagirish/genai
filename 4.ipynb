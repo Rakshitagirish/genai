import numpy as np
def creat_embedding(corpus,em_dim):
  vocabulary={}
  index=0
  for sentence in corpus:
    words=sentence.lower().split()
    for word in words:
      if word not in vocabulary:
        vocabulary[word]=index
        index+=1
  v=len(vocabulary)
  E=np.random.rand(v,em_dim)
  word_to_index=vocabulary
  def get_word(word):
    word=word.lower()
    if word in word_to_index:
      idx=word_to_index[word]
      return E[idx]
    else:
      return np.zeros(em_dim)
  return E,vocabulary,get_word
corpus=[
    "I love machine learning ",
    "Machine learning is amazing",
     "I love learning new things"
]
em_dim=3
E,vocabulary,get_word=creat_embedding(corpus,em_dim)
print(E)
print(vocabulary)
word="hello"
vector=get_word(word)
print(f"em for '{word}':",vector)

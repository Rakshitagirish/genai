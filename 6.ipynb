import numpy as np
def create(corpus):
  vocabulary={}
  index=0
  for sentence in corpus:
    words=sentence.lower().split()
    for word in words:
      if word not in vocabulary:
        vocabulary[word]=index
        index+=1
  v=len(vocabulary)
  one_hot_encoding={}
  for word,idx in vocabulary.items():
    one_hot_vector=np.zeros(v)
    one_hot_vector[idx]=1
    one_hot_encoding[word]=one_hot_vector
  return vocabulary,one_hot_encoding
corpus=[
    "i love machine learning",
    "machine learning is amazing",
    "i love learning new things"
]
vocabulary,one_hot_encoding=create(corpus)
print(vocabulary)
for word,one_hot_vector in one_hot_encoding.items():
  print(f"word:'{word}': one_hot_vector:'{one_hot_vector}'")

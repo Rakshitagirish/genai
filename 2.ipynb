def genearate(sentence,n):
  words=sentence.lower().split()
  ngrams=[]
  for i in range(len(words)-n+1):
    ngram=tuple(words[i:i+n])
    ngrams.append(ngram)
  return ngram
sentence="The quick brown fox jumps over the lazy dog."
n=3
ng=genearate(sentence,n)
print(f"'{n}'-gram")
for g in ng:
  print(g)
